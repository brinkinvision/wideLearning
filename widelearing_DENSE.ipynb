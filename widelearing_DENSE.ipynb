{
  "cells": [
    {
      "cell_type": "code",
      "source": [
        "pip install widelearning"
      ],
      "metadata": {
        "id": "a6VN13i69tGA"
      },
      "execution_count": null,
      "outputs": []
    },
    {
      "cell_type": "code",
      "source": [
        "import widelearning as wdl"
      ],
      "metadata": {
        "id": "mUZC76k5-Elg"
      },
      "execution_count": null,
      "outputs": []
    },
    {
      "cell_type": "code",
      "execution_count": null,
      "metadata": {
        "id": "zWd4NudsDbqb"
      },
      "outputs": [],
      "source": [
        "wdl.data_int('/content/peng_train1.csv', '/content/dec_peng.txt', 'PENG')"
      ]
    },
    {
      "cell_type": "code",
      "execution_count": null,
      "metadata": {
        "id": "YO6zItlfG8j3"
      },
      "outputs": [],
      "source": [
        "#wdl.select_top(\"/content/PENG_train.csv\", 'Species')\n",
        "wdl.select_top_binary('/content/PENG_train2.csv', 'Species')"
      ]
    },
    {
      "cell_type": "code",
      "execution_count": null,
      "metadata": {
        "id": "N8mV8bpAG8j3"
      },
      "outputs": [],
      "source": [
        "#wdl.grad(\"/content/PENG_train.csv\", [1], [0, 2], 'Species', [72546.72413793104, -151511.37931034484, 159958.8275862069, 140951.72413793104])\n",
        "wdl.grad_boost_binary('/content/PENG_train2.csv', [0], [2], 'Species', 1, 1, [-123028.45454545454, 18313.909090909092, -58615.454545454544, -49332.95454545455])"
      ]
    },
    {
      "cell_type": "code",
      "execution_count": null,
      "metadata": {
        "id": "xic85UAbG8j3"
      },
      "outputs": [],
      "source": []
    },
    {
      "cell_type": "code",
      "execution_count": null,
      "metadata": {
        "id": "dU8uniHyG8j4"
      },
      "outputs": [],
      "source": []
    },
    {
      "cell_type": "code",
      "execution_count": null,
      "metadata": {
        "id": "mvgUoDWJG8j4"
      },
      "outputs": [],
      "source": []
    }
  ],
  "metadata": {
    "colab": {
      "provenance": []
    },
    "kernelspec": {
      "display_name": "Python 3",
      "language": "python",
      "name": "python3"
    },
    "language_info": {
      "codemirror_mode": {
        "name": "ipython",
        "version": 3
      },
      "file_extension": ".py",
      "mimetype": "text/x-python",
      "name": "python",
      "nbconvert_exporter": "python",
      "pygments_lexer": "ipython3",
      "version": "3.8.8"
    }
  },
  "nbformat": 4,
  "nbformat_minor": 0
}