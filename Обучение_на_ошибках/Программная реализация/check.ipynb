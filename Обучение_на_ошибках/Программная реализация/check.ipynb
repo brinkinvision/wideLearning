{
 "cells": [
  {
   "cell_type": "code",
   "execution_count": 2,
   "id": "1e22f693",
   "metadata": {},
   "outputs": [],
   "source": [
    "import widelearning as wdl"
   ]
  },
  {
   "cell_type": "code",
   "execution_count": 3,
   "id": "e2151600",
   "metadata": {},
   "outputs": [],
   "source": [
    "########################################                  FOREST                  ########################################"
   ]
  },
  {
   "cell_type": "code",
   "execution_count": 4,
   "id": "7b6629ff",
   "metadata": {},
   "outputs": [],
   "source": [
    "# 1. Первое обучение"
   ]
  },
  {
   "cell_type": "code",
   "execution_count": 5,
   "id": "b9663dcb",
   "metadata": {},
   "outputs": [
    {
     "name": "stdout",
     "output_type": "stream",
     "text": [
      "Ошибок =  2 из  20\n",
      "Экземпляры №: ['10', '125']\n"
     ]
    }
   ],
   "source": [
    "# Точность по тестовой выборке\n",
    "wdl.check_test('FOREST/1_first_train/FOREST_train.csv', 'FOREST/1_first_train/FOREST_train_weights.txt', 'FOREST/1_first_train/FOREST_test.csv', 'class')"
   ]
  },
  {
   "cell_type": "code",
   "execution_count": 6,
   "id": "55911ccd",
   "metadata": {},
   "outputs": [
    {
     "name": "stdout",
     "output_type": "stream",
     "text": [
      "Ошибок =  0 из  178\n",
      "Экземпляры №: []\n"
     ]
    }
   ],
   "source": [
    "# Точность по обучающей выборке\n",
    "wdl.check_test('FOREST/1_first_train/FOREST_train.csv', 'FOREST/1_first_train/FOREST_train_weights.txt', 'FOREST/1_first_train/FOREST_train.csv', 'class')"
   ]
  },
  {
   "cell_type": "code",
   "execution_count": null,
   "id": "c0c255e1",
   "metadata": {},
   "outputs": [],
   "source": [
    "# 2. Точность после добавления экземпляров 10 и 125"
   ]
  },
  {
   "cell_type": "code",
   "execution_count": 7,
   "id": "d574f4bc",
   "metadata": {},
   "outputs": [
    {
     "name": "stdout",
     "output_type": "stream",
     "text": [
      "Ошибок =  0 из  20\n",
      "Экземпляры №: []\n"
     ]
    }
   ],
   "source": [
    "# Точность по тестовой выборке\n",
    "wdl.check_test('FOREST/2_add_10_125/FOREST_train_10_125.csv', 'FOREST/2_add_10_125/FOREST_train_10_125_weights.txt', 'FOREST/2_add_10_125/FOREST_test.csv', 'class')"
   ]
  },
  {
   "cell_type": "code",
   "execution_count": 8,
   "id": "a19efcc8",
   "metadata": {},
   "outputs": [
    {
     "name": "stdout",
     "output_type": "stream",
     "text": [
      "Ошибок =  0 из  180\n",
      "Экземпляры №: []\n"
     ]
    }
   ],
   "source": [
    "# Точность по обучающей выборке\n",
    "wdl.check_test('FOREST/2_add_10_125/FOREST_train_10_125.csv', 'FOREST/2_add_10_125/FOREST_train_10_125_weights.txt', 'FOREST/2_add_10_125/FOREST_train_10_125.csv', 'class')"
   ]
  },
  {
   "cell_type": "code",
   "execution_count": null,
   "id": "56e8046e",
   "metadata": {},
   "outputs": [],
   "source": [
    "########################################                  SEED                  ########################################"
   ]
  },
  {
   "cell_type": "code",
   "execution_count": null,
   "id": "5f8f7860",
   "metadata": {},
   "outputs": [],
   "source": [
    "# 1. Первое обучение"
   ]
  },
  {
   "cell_type": "code",
   "execution_count": 9,
   "id": "885e223a",
   "metadata": {},
   "outputs": [
    {
     "name": "stdout",
     "output_type": "stream",
     "text": [
      "Ошибок =  2 из  21\n",
      "Экземпляры №: ['135', '201']\n"
     ]
    }
   ],
   "source": [
    "# Точность по тестовой выборке\n",
    "wdl.check_test('SEED/1_first_train/SEED_train.csv', 'SEED/1_first_train/SEED_train_weights.txt', 'SEED/1_first_train/SEED_test.csv', 'target')"
   ]
  },
  {
   "cell_type": "code",
   "execution_count": 10,
   "id": "4a74225b",
   "metadata": {},
   "outputs": [
    {
     "name": "stdout",
     "output_type": "stream",
     "text": [
      "Ошибок =  1 из  189\n",
      "Экземпляры №: ['51']\n"
     ]
    }
   ],
   "source": [
    "# Точность по тестовой выборке\n",
    "wdl.check_test('SEED/1_first_train/SEED_train.csv', 'SEED/1_first_train/SEED_train_weights.txt', 'SEED/1_first_train/SEED_train.csv', 'target')"
   ]
  },
  {
   "cell_type": "code",
   "execution_count": null,
   "id": "44aaeb98",
   "metadata": {},
   "outputs": [],
   "source": [
    "# 2. Точность после добавления экземпляров 135 и 201"
   ]
  },
  {
   "cell_type": "code",
   "execution_count": 11,
   "id": "b7ed9cb3",
   "metadata": {},
   "outputs": [
    {
     "name": "stdout",
     "output_type": "stream",
     "text": [
      "Ошибок =  3 из  21\n",
      "Экземпляры №: ['41', '23', '35']\n"
     ]
    }
   ],
   "source": [
    "# Точность по тестовой выборке\n",
    "wdl.check_test('SEED/2_add_135_201/SEED_train_135_201.csv', 'SEED/2_add_135_201/SEED_train_135_201_weights.txt', 'SEED/2_add_135_201/SEED_test.csv', 'target')"
   ]
  },
  {
   "cell_type": "code",
   "execution_count": 12,
   "id": "7b438d45",
   "metadata": {},
   "outputs": [
    {
     "name": "stdout",
     "output_type": "stream",
     "text": [
      "Ошибок =  0 из  191\n",
      "Экземпляры №: []\n"
     ]
    }
   ],
   "source": [
    "# Точность по тестовой выборке\n",
    "wdl.check_test('SEED/2_add_135_201/SEED_train_135_201.csv', 'SEED/2_add_135_201/SEED_train_135_201_weights.txt', 'SEED/2_add_135_201/SEED_train_135_201.csv', 'target')"
   ]
  },
  {
   "cell_type": "code",
   "execution_count": null,
   "id": "aa28c1cf",
   "metadata": {},
   "outputs": [],
   "source": []
  },
  {
   "cell_type": "code",
   "execution_count": null,
   "id": "15812d87",
   "metadata": {},
   "outputs": [],
   "source": []
  }
 ],
 "metadata": {
  "kernelspec": {
   "display_name": "Python 3 (ipykernel)",
   "language": "python",
   "name": "python3"
  },
  "language_info": {
   "codemirror_mode": {
    "name": "ipython",
    "version": 3
   },
   "file_extension": ".py",
   "mimetype": "text/x-python",
   "name": "python",
   "nbconvert_exporter": "python",
   "pygments_lexer": "ipython3",
   "version": "3.9.12"
  }
 },
 "nbformat": 4,
 "nbformat_minor": 5
}
