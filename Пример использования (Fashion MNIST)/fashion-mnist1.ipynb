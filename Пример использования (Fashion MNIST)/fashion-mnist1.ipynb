{
 "cells": [
  {
   "cell_type": "markdown",
   "metadata": {},
   "source": [
    "<h1>Fashion MNIST Classification</h1>"
   ]
  },
  {
   "cell_type": "code",
   "execution_count": 1,
   "metadata": {
    "_cell_guid": "b1076dfc-b9ad-4769-8c92-a6c4dae69d19",
    "_uuid": "8f2839f25d086af736a60e9eeb907d3b93b6e0e5",
    "execution": {
     "iopub.execute_input": "2021-07-17T14:29:38.220669Z",
     "iopub.status.busy": "2021-07-17T14:29:38.220289Z",
     "iopub.status.idle": "2021-07-17T14:29:38.235620Z",
     "shell.execute_reply": "2021-07-17T14:29:38.234397Z",
     "shell.execute_reply.started": "2021-07-17T14:29:38.220634Z"
    }
   },
   "outputs": [
    {
     "name": "stderr",
     "output_type": "stream",
     "text": [
      "2022-08-23 15:58:51.812550: I tensorflow/stream_executor/platform/default/dso_loader.cc:49] Successfully opened dynamic library libcudart.so.10.1\n"
     ]
    }
   ],
   "source": [
    "import pandas as pd\n",
    "import numpy as np\n",
    "np.random.seed(0)\n",
    "from sklearn.metrics import recall_score,precision_score,f1_score\n",
    "from sklearn.metrics import ConfusionMatrixDisplay,confusion_matrix\n",
    "import matplotlib.pyplot as plt\n",
    "import tensorflow as tf\n",
    "tf.compat.v1.set_random_seed(0)\n",
    "from tensorflow import keras"
   ]
  },
  {
   "cell_type": "code",
   "execution_count": 2,
   "metadata": {
    "execution": {
     "iopub.execute_input": "2021-07-17T14:29:38.237964Z",
     "iopub.status.busy": "2021-07-17T14:29:38.237511Z",
     "iopub.status.idle": "2021-07-17T14:29:42.492354Z",
     "shell.execute_reply": "2021-07-17T14:29:42.491580Z",
     "shell.execute_reply.started": "2021-07-17T14:29:38.237855Z"
    }
   },
   "outputs": [],
   "source": [
    "data_train = pd.read_csv(\"/home/zaripovdm/Рабочий стол/archive/fashion-mnist_train.csv\")"
   ]
  },
  {
   "cell_type": "code",
   "execution_count": 3,
   "metadata": {
    "execution": {
     "iopub.execute_input": "2021-07-17T14:29:42.494589Z",
     "iopub.status.busy": "2021-07-17T14:29:42.494213Z",
     "iopub.status.idle": "2021-07-17T14:29:56.003057Z",
     "shell.execute_reply": "2021-07-17T14:29:56.001950Z",
     "shell.execute_reply.started": "2021-07-17T14:29:42.494549Z"
    }
   },
   "outputs": [],
   "source": [
    "train_features=[]\n",
    "train_labels = []\n",
    "for i in range(60000):\n",
    "    train_features.append(np.array(data_train.iloc[i][1:]).reshape(28,28))\n",
    "    train_labels.append(data_train.iloc[i][0])"
   ]
  },
  {
   "cell_type": "code",
   "execution_count": 4,
   "metadata": {
    "execution": {
     "iopub.execute_input": "2021-07-17T14:29:56.005378Z",
     "iopub.status.busy": "2021-07-17T14:29:56.004947Z",
     "iopub.status.idle": "2021-07-17T14:29:56.227262Z",
     "shell.execute_reply": "2021-07-17T14:29:56.226276Z",
     "shell.execute_reply.started": "2021-07-17T14:29:56.005327Z"
    }
   },
   "outputs": [
    {
     "name": "stdout",
     "output_type": "stream",
     "text": [
      "Train Features :  (60000, 28, 28)\n",
      "Train Labels :  (60000, 1)\n"
     ]
    }
   ],
   "source": [
    "train_features = np.array(train_features)\n",
    "train_labels = np.array(train_labels).reshape(-1,1)\n",
    "print(\"Train Features : \",train_features.shape)\n",
    "print(\"Train Labels : \",train_labels.shape)"
   ]
  },
  {
   "cell_type": "code",
   "execution_count": 5,
   "metadata": {
    "execution": {
     "iopub.execute_input": "2021-07-17T14:29:56.229484Z",
     "iopub.status.busy": "2021-07-17T14:29:56.229129Z",
     "iopub.status.idle": "2021-07-17T14:29:56.923240Z",
     "shell.execute_reply": "2021-07-17T14:29:56.922280Z",
     "shell.execute_reply.started": "2021-07-17T14:29:56.229448Z"
    }
   },
   "outputs": [],
   "source": [
    "data_test = pd.read_csv(\"/home/zaripovdm/Рабочий стол/archive/fashion-mnist_test.csv\")"
   ]
  },
  {
   "cell_type": "code",
   "execution_count": 6,
   "metadata": {
    "execution": {
     "iopub.execute_input": "2021-07-17T14:29:56.925017Z",
     "iopub.status.busy": "2021-07-17T14:29:56.924673Z",
     "iopub.status.idle": "2021-07-17T14:29:59.439202Z",
     "shell.execute_reply": "2021-07-17T14:29:59.438278Z",
     "shell.execute_reply.started": "2021-07-17T14:29:56.924979Z"
    }
   },
   "outputs": [],
   "source": [
    "test_features=[]\n",
    "test_labels = []\n",
    "for i in range(10000):\n",
    "    test_features.append(np.array(data_test.iloc[i][1:]).reshape(28,28,1))\n",
    "    test_labels.append(data_test.iloc[i][0])"
   ]
  },
  {
   "cell_type": "code",
   "execution_count": 7,
   "metadata": {
    "execution": {
     "iopub.execute_input": "2021-07-17T14:29:59.441096Z",
     "iopub.status.busy": "2021-07-17T14:29:59.440705Z",
     "iopub.status.idle": "2021-07-17T14:29:59.615972Z",
     "shell.execute_reply": "2021-07-17T14:29:59.614934Z",
     "shell.execute_reply.started": "2021-07-17T14:29:59.441054Z"
    }
   },
   "outputs": [
    {
     "name": "stdout",
     "output_type": "stream",
     "text": [
      "Test Features :  (10000, 28, 28, 1)\n",
      "Test Labels :  (10000, 1)\n"
     ]
    }
   ],
   "source": [
    "test_features = np.array(test_features).reshape(-1,28,28,1)\n",
    "train_features = np.array(train_features).reshape(-1,28,28,1)\n",
    "test_labels = np.array(test_labels).reshape(-1,1)\n",
    "print(\"Test Features : \",test_features.shape)\n",
    "print(\"Test Labels : \",test_labels.shape)"
   ]
  },
  {
   "cell_type": "code",
   "execution_count": 8,
   "metadata": {
    "execution": {
     "iopub.execute_input": "2021-07-17T14:30:00.600654Z",
     "iopub.status.busy": "2021-07-17T14:30:00.600319Z",
     "iopub.status.idle": "2021-07-17T14:30:00.763556Z",
     "shell.execute_reply": "2021-07-17T14:30:00.762680Z",
     "shell.execute_reply.started": "2021-07-17T14:30:00.600617Z"
    }
   },
   "outputs": [],
   "source": [
    "train_features = train_features / 255.0\n",
    "test_features = test_features / 255.0"
   ]
  },
  {
   "cell_type": "code",
   "execution_count": 9,
   "metadata": {
    "execution": {
     "iopub.execute_input": "2021-07-17T14:30:00.765325Z",
     "iopub.status.busy": "2021-07-17T14:30:00.764809Z",
     "iopub.status.idle": "2021-07-17T14:30:01.038693Z",
     "shell.execute_reply": "2021-07-17T14:30:01.037799Z",
     "shell.execute_reply.started": "2021-07-17T14:30:00.765286Z"
    }
   },
   "outputs": [
    {
     "name": "stderr",
     "output_type": "stream",
     "text": [
      "2022-08-23 15:59:40.117029: I tensorflow/compiler/jit/xla_cpu_device.cc:41] Not creating XLA devices, tf_xla_enable_xla_devices not set\n",
      "2022-08-23 15:59:40.295659: I tensorflow/stream_executor/platform/default/dso_loader.cc:49] Successfully opened dynamic library libcuda.so.1\n",
      "2022-08-23 15:59:41.066690: I tensorflow/stream_executor/cuda/cuda_gpu_executor.cc:941] successful NUMA node read from SysFS had negative value (-1), but there must be at least one NUMA node, so returning NUMA node zero\n",
      "2022-08-23 15:59:41.068203: I tensorflow/core/common_runtime/gpu/gpu_device.cc:1720] Found device 0 with properties: \n",
      "pciBusID: 0000:01:00.0 name: NVIDIA GeForce GTX 1060 with Max-Q Design computeCapability: 6.1\n",
      "coreClock: 1.48GHz coreCount: 10 deviceMemorySize: 5.94GiB deviceMemoryBandwidth: 178.99GiB/s\n",
      "2022-08-23 15:59:41.068330: I tensorflow/stream_executor/platform/default/dso_loader.cc:49] Successfully opened dynamic library libcudart.so.10.1\n",
      "2022-08-23 15:59:41.338664: I tensorflow/stream_executor/platform/default/dso_loader.cc:49] Successfully opened dynamic library libcublas.so.10\n",
      "2022-08-23 15:59:41.338947: I tensorflow/stream_executor/platform/default/dso_loader.cc:49] Successfully opened dynamic library libcublasLt.so.10\n",
      "2022-08-23 15:59:41.516186: I tensorflow/stream_executor/platform/default/dso_loader.cc:49] Successfully opened dynamic library libcufft.so.10\n",
      "2022-08-23 15:59:41.582351: I tensorflow/stream_executor/platform/default/dso_loader.cc:49] Successfully opened dynamic library libcurand.so.10\n",
      "2022-08-23 15:59:41.855809: I tensorflow/stream_executor/platform/default/dso_loader.cc:49] Successfully opened dynamic library libcusolver.so.10\n",
      "2022-08-23 15:59:41.919321: I tensorflow/stream_executor/platform/default/dso_loader.cc:49] Successfully opened dynamic library libcusparse.so.10\n",
      "2022-08-23 15:59:42.485834: I tensorflow/stream_executor/platform/default/dso_loader.cc:49] Successfully opened dynamic library libcudnn.so.7\n",
      "2022-08-23 15:59:42.486275: I tensorflow/stream_executor/cuda/cuda_gpu_executor.cc:941] successful NUMA node read from SysFS had negative value (-1), but there must be at least one NUMA node, so returning NUMA node zero\n",
      "2022-08-23 15:59:42.487768: I tensorflow/stream_executor/cuda/cuda_gpu_executor.cc:941] successful NUMA node read from SysFS had negative value (-1), but there must be at least one NUMA node, so returning NUMA node zero\n",
      "2022-08-23 15:59:42.488983: I tensorflow/core/common_runtime/gpu/gpu_device.cc:1862] Adding visible gpu devices: 0\n",
      "2022-08-23 15:59:42.491526: I tensorflow/core/platform/cpu_feature_guard.cc:142] This TensorFlow binary is optimized with oneAPI Deep Neural Network Library (oneDNN) to use the following CPU instructions in performance-critical operations:  SSE4.1 SSE4.2 AVX AVX2 FMA\n",
      "To enable them in other operations, rebuild TensorFlow with the appropriate compiler flags.\n",
      "2022-08-23 15:59:42.495996: I tensorflow/stream_executor/cuda/cuda_gpu_executor.cc:941] successful NUMA node read from SysFS had negative value (-1), but there must be at least one NUMA node, so returning NUMA node zero\n",
      "2022-08-23 15:59:42.497278: I tensorflow/core/common_runtime/gpu/gpu_device.cc:1720] Found device 0 with properties: \n",
      "pciBusID: 0000:01:00.0 name: NVIDIA GeForce GTX 1060 with Max-Q Design computeCapability: 6.1\n",
      "coreClock: 1.48GHz coreCount: 10 deviceMemorySize: 5.94GiB deviceMemoryBandwidth: 178.99GiB/s\n",
      "2022-08-23 15:59:42.497397: I tensorflow/stream_executor/platform/default/dso_loader.cc:49] Successfully opened dynamic library libcudart.so.10.1\n",
      "2022-08-23 15:59:42.497473: I tensorflow/stream_executor/platform/default/dso_loader.cc:49] Successfully opened dynamic library libcublas.so.10\n",
      "2022-08-23 15:59:42.497544: I tensorflow/stream_executor/platform/default/dso_loader.cc:49] Successfully opened dynamic library libcublasLt.so.10\n",
      "2022-08-23 15:59:42.497612: I tensorflow/stream_executor/platform/default/dso_loader.cc:49] Successfully opened dynamic library libcufft.so.10\n",
      "2022-08-23 15:59:42.497678: I tensorflow/stream_executor/platform/default/dso_loader.cc:49] Successfully opened dynamic library libcurand.so.10\n",
      "2022-08-23 15:59:42.497745: I tensorflow/stream_executor/platform/default/dso_loader.cc:49] Successfully opened dynamic library libcusolver.so.10\n",
      "2022-08-23 15:59:42.497816: I tensorflow/stream_executor/platform/default/dso_loader.cc:49] Successfully opened dynamic library libcusparse.so.10\n",
      "2022-08-23 15:59:42.497884: I tensorflow/stream_executor/platform/default/dso_loader.cc:49] Successfully opened dynamic library libcudnn.so.7\n",
      "2022-08-23 15:59:42.498146: I tensorflow/stream_executor/cuda/cuda_gpu_executor.cc:941] successful NUMA node read from SysFS had negative value (-1), but there must be at least one NUMA node, so returning NUMA node zero\n",
      "2022-08-23 15:59:42.499546: I tensorflow/stream_executor/cuda/cuda_gpu_executor.cc:941] successful NUMA node read from SysFS had negative value (-1), but there must be at least one NUMA node, so returning NUMA node zero\n",
      "2022-08-23 15:59:42.500743: I tensorflow/core/common_runtime/gpu/gpu_device.cc:1862] Adding visible gpu devices: 0\n",
      "2022-08-23 15:59:42.515946: I tensorflow/stream_executor/platform/default/dso_loader.cc:49] Successfully opened dynamic library libcudart.so.10.1\n",
      "2022-08-23 15:59:49.290022: I tensorflow/core/common_runtime/gpu/gpu_device.cc:1261] Device interconnect StreamExecutor with strength 1 edge matrix:\n",
      "2022-08-23 15:59:49.290094: I tensorflow/core/common_runtime/gpu/gpu_device.cc:1267]      0 \n",
      "2022-08-23 15:59:49.290116: I tensorflow/core/common_runtime/gpu/gpu_device.cc:1280] 0:   N \n",
      "2022-08-23 15:59:49.324215: I tensorflow/stream_executor/cuda/cuda_gpu_executor.cc:941] successful NUMA node read from SysFS had negative value (-1), but there must be at least one NUMA node, so returning NUMA node zero\n",
      "2022-08-23 15:59:49.325497: I tensorflow/stream_executor/cuda/cuda_gpu_executor.cc:941] successful NUMA node read from SysFS had negative value (-1), but there must be at least one NUMA node, so returning NUMA node zero\n",
      "2022-08-23 15:59:49.326650: I tensorflow/stream_executor/cuda/cuda_gpu_executor.cc:941] successful NUMA node read from SysFS had negative value (-1), but there must be at least one NUMA node, so returning NUMA node zero\n",
      "2022-08-23 15:59:49.327620: I tensorflow/core/common_runtime/gpu/gpu_device.cc:1406] Created TensorFlow device (/job:localhost/replica:0/task:0/device:GPU:0 with 5540 MB memory) -> physical GPU (device: 0, name: NVIDIA GeForce GTX 1060 with Max-Q Design, pci bus id: 0000:01:00.0, compute capability: 6.1)\n",
      "2022-08-23 15:59:49.352288: I tensorflow/compiler/jit/xla_gpu_device.cc:99] Not creating XLA devices, tf_xla_enable_xla_devices not set\n"
     ]
    },
    {
     "name": "stdout",
     "output_type": "stream",
     "text": [
      "Model: \"sequential\"\n",
      "_________________________________________________________________\n",
      "Layer (type)                 Output Shape              Param #   \n",
      "=================================================================\n",
      "conv2d (Conv2D)              (None, 27, 27, 16)        80        \n",
      "_________________________________________________________________\n",
      "max_pooling2d (MaxPooling2D) (None, 13, 13, 16)        0         \n",
      "_________________________________________________________________\n",
      "conv2d_1 (Conv2D)            (None, 12, 12, 32)        2080      \n",
      "_________________________________________________________________\n",
      "max_pooling2d_1 (MaxPooling2 (None, 6, 6, 32)          0         \n",
      "_________________________________________________________________\n",
      "flatten (Flatten)            (None, 1152)              0         \n",
      "_________________________________________________________________\n",
      "dense (Dense)                (None, 1024)              1180672   \n",
      "_________________________________________________________________\n",
      "dropout (Dropout)            (None, 1024)              0         \n",
      "_________________________________________________________________\n",
      "dense_1 (Dense)              (None, 128)               131200    \n",
      "_________________________________________________________________\n",
      "dropout_1 (Dropout)          (None, 128)               0         \n",
      "_________________________________________________________________\n",
      "dense_2 (Dense)              (None, 10)                1290      \n",
      "=================================================================\n",
      "Total params: 1,315,322\n",
      "Trainable params: 1,315,322\n",
      "Non-trainable params: 0\n",
      "_________________________________________________________________\n"
     ]
    }
   ],
   "source": [
    "# исходная структура\n",
    "model = keras.models.Sequential()\n",
    "model.add(keras.layers.Conv2D(16,(2,2),activation='relu',input_shape=(28,28,1)))\n",
    "model.add(keras.layers.MaxPool2D((2,2)))\n",
    "model.add(keras.layers.Conv2D(32,(2,2),activation='relu'))\n",
    "model.add(keras.layers.MaxPool2D((2,2)))\n",
    "\n",
    "model.add(keras.layers.Flatten())\n",
    "\n",
    "model.add(keras.layers.Dense(1024,activation='relu'))\n",
    "model.add(keras.layers.Dropout(0.5))\n",
    "model.add(keras.layers.Dense(128,activation='relu'))\n",
    "model.add(keras.layers.Dropout(0.3))\n",
    "model.add(keras.layers.Dense(10,activation='softmax'))\n",
    "model.summary()\n"
   ]
  },
  {
   "cell_type": "code",
   "execution_count": 10,
   "metadata": {
    "execution": {
     "iopub.execute_input": "2021-07-17T14:30:01.040088Z",
     "iopub.status.busy": "2021-07-17T14:30:01.039775Z",
     "iopub.status.idle": "2021-07-17T14:30:01.051698Z",
     "shell.execute_reply": "2021-07-17T14:30:01.050658Z",
     "shell.execute_reply.started": "2021-07-17T14:30:01.040052Z"
    }
   },
   "outputs": [],
   "source": [
    "model.compile(optimizer=keras.optimizers.Adam(0.001),loss='sparse_categorical_crossentropy',metrics=['accuracy'])"
   ]
  },
  {
   "cell_type": "code",
   "execution_count": 11,
   "metadata": {
    "execution": {
     "iopub.execute_input": "2021-07-17T14:30:01.053536Z",
     "iopub.status.busy": "2021-07-17T14:30:01.053093Z",
     "iopub.status.idle": "2021-07-17T14:32:11.374999Z",
     "shell.execute_reply": "2021-07-17T14:32:11.374187Z",
     "shell.execute_reply.started": "2021-07-17T14:30:01.053497Z"
    }
   },
   "outputs": [
    {
     "name": "stderr",
     "output_type": "stream",
     "text": [
      "2022-08-23 15:59:56.823713: I tensorflow/compiler/mlir/mlir_graph_optimization_pass.cc:116] None of the MLIR optimization passes are enabled (registered 2)\n",
      "2022-08-23 15:59:56.864061: I tensorflow/core/platform/profile_utils/cpu_utils.cc:112] CPU Frequency: 2199995000 Hz\n"
     ]
    },
    {
     "name": "stdout",
     "output_type": "stream",
     "text": [
      "Epoch 1/7\n"
     ]
    },
    {
     "name": "stderr",
     "output_type": "stream",
     "text": [
      "2022-08-23 15:59:57.604902: I tensorflow/stream_executor/platform/default/dso_loader.cc:49] Successfully opened dynamic library libcublas.so.10\n",
      "2022-08-23 15:59:59.378399: I tensorflow/stream_executor/platform/default/dso_loader.cc:49] Successfully opened dynamic library libcudnn.so.7\n"
     ]
    },
    {
     "name": "stdout",
     "output_type": "stream",
     "text": [
      "938/938 [==============================] - 19s 10ms/step - loss: 0.7165 - accuracy: 0.7386 - val_loss: 0.3246 - val_accuracy: 0.8787\n",
      "Epoch 2/7\n",
      "938/938 [==============================] - 9s 10ms/step - loss: 0.3491 - accuracy: 0.8740 - val_loss: 0.2843 - val_accuracy: 0.8933\n",
      "Epoch 3/7\n",
      "938/938 [==============================] - 9s 9ms/step - loss: 0.3038 - accuracy: 0.8896 - val_loss: 0.2471 - val_accuracy: 0.9113\n",
      "Epoch 4/7\n",
      "938/938 [==============================] - 9s 9ms/step - loss: 0.2663 - accuracy: 0.9039 - val_loss: 0.2422 - val_accuracy: 0.9107\n",
      "Epoch 5/7\n",
      "938/938 [==============================] - 9s 10ms/step - loss: 0.2458 - accuracy: 0.9079 - val_loss: 0.2275 - val_accuracy: 0.9159\n",
      "Epoch 6/7\n",
      "938/938 [==============================] - 9s 9ms/step - loss: 0.2217 - accuracy: 0.9185 - val_loss: 0.2438 - val_accuracy: 0.9097\n",
      "Epoch 7/7\n",
      "938/938 [==============================] - 9s 10ms/step - loss: 0.2078 - accuracy: 0.9226 - val_loss: 0.2127 - val_accuracy: 0.9225\n"
     ]
    }
   ],
   "source": [
    "ep = 7\n",
    "history = model.fit(train_features,\n",
    "                    train_labels,\n",
    "                    batch_size=64,\n",
    "                    validation_batch_size=1,\n",
    "                    validation_data = (test_features,test_labels),\n",
    "                    epochs = ep)"
   ]
  },
  {
   "cell_type": "code",
   "execution_count": 12,
   "metadata": {
    "execution": {
     "iopub.execute_input": "2021-07-17T14:32:11.643275Z",
     "iopub.status.busy": "2021-07-17T14:32:11.642940Z",
     "iopub.status.idle": "2021-07-17T14:32:13.316023Z",
     "shell.execute_reply": "2021-07-17T14:32:13.314993Z",
     "shell.execute_reply.started": "2021-07-17T14:32:11.643238Z"
    }
   },
   "outputs": [
    {
     "name": "stdout",
     "output_type": "stream",
     "text": [
      "313/313 [==============================] - 1s 1ms/step - loss: 0.2127 - accuracy: 0.9225\n",
      "Test accuracy : 92.25 %\n",
      "313/313 [==============================] - 0s 1ms/step - loss: 0.2127 - accuracy: 0.9225\n",
      "Test loss : 0.2127\n"
     ]
    }
   ],
   "source": [
    "print(\"Test accuracy : {:.2f} %\".format(model.evaluate(test_features,test_labels)[1]*100))\n",
    "print(\"Test loss : {:.4f}\".format(model.evaluate(test_features,test_labels)[0]))"
   ]
  },
  {
   "cell_type": "code",
   "execution_count": 13,
   "metadata": {},
   "outputs": [
    {
     "name": "stdout",
     "output_type": "stream",
     "text": [
      "Epoch 1/7\n",
      "938/938 [==============================] - 10s 11ms/step - loss: 0.7254 - accuracy: 0.7369 - val_loss: 0.3365 - val_accuracy: 0.8827\n",
      "Epoch 2/7\n",
      "938/938 [==============================] - 10s 11ms/step - loss: 0.3611 - accuracy: 0.8713 - val_loss: 0.2903 - val_accuracy: 0.8926\n",
      "Epoch 3/7\n",
      "938/938 [==============================] - 10s 10ms/step - loss: 0.3081 - accuracy: 0.8890 - val_loss: 0.2675 - val_accuracy: 0.9037\n",
      "Epoch 4/7\n",
      "938/938 [==============================] - 9s 10ms/step - loss: 0.2699 - accuracy: 0.9023 - val_loss: 0.2544 - val_accuracy: 0.9075\n",
      "Epoch 5/7\n",
      "938/938 [==============================] - 9s 10ms/step - loss: 0.2493 - accuracy: 0.9073 - val_loss: 0.2449 - val_accuracy: 0.9095\n",
      "Epoch 6/7\n",
      "938/938 [==============================] - 10s 10ms/step - loss: 0.2243 - accuracy: 0.9187 - val_loss: 0.2367 - val_accuracy: 0.9165\n",
      "Epoch 7/7\n",
      "938/938 [==============================] - 10s 10ms/step - loss: 0.2090 - accuracy: 0.9223 - val_loss: 0.2330 - val_accuracy: 0.9166\n"
     ]
    }
   ],
   "source": [
    "# изменили структуру сети:\n",
    "# в полносвязном слое уменьшено кол-во нейронов с 1024 до 512\n",
    "# в первом сверточном слое установлено только одно ядро\n",
    "# удален один maxpooling-слой\n",
    "model = keras.models.Sequential()\n",
    "model.add(keras.layers.Conv2D(1,(2,2),activation='relu',input_shape=(28,28,1)))\n",
    "model.add(keras.layers.Conv2D(32,(2,2),activation='relu'))\n",
    "model.add(keras.layers.MaxPool2D((2,2)))\n",
    "\n",
    "model.add(keras.layers.Flatten())\n",
    "\n",
    "model.add(keras.layers.Dense(512,activation='relu'))\n",
    "model.add(keras.layers.Dropout(0.5))\n",
    "model.add(keras.layers.Dense(128,activation='relu'))\n",
    "model.add(keras.layers.Dropout(0.3))\n",
    "model.add(keras.layers.Dense(10,activation='softmax'))\n",
    "\n",
    "model.compile(optimizer=keras.optimizers.Adam(0.001),loss='sparse_categorical_crossentropy',metrics=['accuracy'])\n",
    "\n",
    "ep = 7\n",
    "history = model.fit(train_features,\n",
    "                    train_labels,\n",
    "                    batch_size=64,\n",
    "                    validation_batch_size=1,\n",
    "                    validation_data = (test_features,test_labels),\n",
    "                    epochs = ep)"
   ]
  },
  {
   "cell_type": "code",
   "execution_count": 14,
   "metadata": {},
   "outputs": [],
   "source": [
    "# добились сопоставимой скорости и точности урезанной структуры с исходной\n",
    "# далее работа со сверточными слоями"
   ]
  },
  {
   "cell_type": "code",
   "execution_count": null,
   "metadata": {},
   "outputs": [],
   "source": []
  },
  {
   "cell_type": "code",
   "execution_count": null,
   "metadata": {},
   "outputs": [],
   "source": []
  },
  {
   "cell_type": "code",
   "execution_count": null,
   "metadata": {},
   "outputs": [],
   "source": []
  },
  {
   "cell_type": "code",
   "execution_count": null,
   "metadata": {},
   "outputs": [],
   "source": []
  },
  {
   "cell_type": "code",
   "execution_count": null,
   "metadata": {},
   "outputs": [],
   "source": []
  },
  {
   "cell_type": "code",
   "execution_count": null,
   "metadata": {},
   "outputs": [],
   "source": []
  },
  {
   "cell_type": "code",
   "execution_count": null,
   "metadata": {},
   "outputs": [],
   "source": []
  }
 ],
 "metadata": {
  "kernelspec": {
   "display_name": "Python 3 (ipykernel)",
   "language": "python",
   "name": "python3"
  },
  "language_info": {
   "codemirror_mode": {
    "name": "ipython",
    "version": 3
   },
   "file_extension": ".py",
   "mimetype": "text/x-python",
   "name": "python",
   "nbconvert_exporter": "python",
   "pygments_lexer": "ipython3",
   "version": "3.8.12"
  }
 },
 "nbformat": 4,
 "nbformat_minor": 4
}
