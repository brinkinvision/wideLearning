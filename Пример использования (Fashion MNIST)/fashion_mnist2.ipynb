{
 "cells": [
  {
   "cell_type": "markdown",
   "metadata": {},
   "source": [
    "<h1>Fashion MNIST Classification</h1>"
   ]
  },
  {
   "cell_type": "code",
   "execution_count": 1,
   "metadata": {
    "_cell_guid": "b1076dfc-b9ad-4769-8c92-a6c4dae69d19",
    "_uuid": "8f2839f25d086af736a60e9eeb907d3b93b6e0e5",
    "execution": {
     "iopub.execute_input": "2021-07-17T14:29:38.220669Z",
     "iopub.status.busy": "2021-07-17T14:29:38.220289Z",
     "iopub.status.idle": "2021-07-17T14:29:38.235620Z",
     "shell.execute_reply": "2021-07-17T14:29:38.234397Z",
     "shell.execute_reply.started": "2021-07-17T14:29:38.220634Z"
    }
   },
   "outputs": [
    {
     "name": "stderr",
     "output_type": "stream",
     "text": [
      "2022-08-23 16:19:54.861660: I tensorflow/stream_executor/platform/default/dso_loader.cc:49] Successfully opened dynamic library libcudart.so.10.1\n"
     ]
    }
   ],
   "source": [
    "import pandas as pd\n",
    "import numpy as np\n",
    "np.random.seed(0)\n",
    "from sklearn.metrics import recall_score,precision_score,f1_score\n",
    "from sklearn.metrics import ConfusionMatrixDisplay,confusion_matrix\n",
    "import matplotlib.pyplot as plt\n",
    "import tensorflow as tf\n",
    "tf.compat.v1.set_random_seed(0)\n",
    "from tensorflow import keras"
   ]
  },
  {
   "cell_type": "code",
   "execution_count": 2,
   "metadata": {
    "execution": {
     "iopub.execute_input": "2021-07-17T14:29:38.237964Z",
     "iopub.status.busy": "2021-07-17T14:29:38.237511Z",
     "iopub.status.idle": "2021-07-17T14:29:42.492354Z",
     "shell.execute_reply": "2021-07-17T14:29:42.491580Z",
     "shell.execute_reply.started": "2021-07-17T14:29:38.237855Z"
    }
   },
   "outputs": [],
   "source": [
    "data_train = pd.read_csv(\"/home/zaripovdm/Рабочий стол/archive/fashion-mnist_train.csv\")"
   ]
  },
  {
   "cell_type": "code",
   "execution_count": 3,
   "metadata": {
    "execution": {
     "iopub.execute_input": "2021-07-17T14:29:42.494589Z",
     "iopub.status.busy": "2021-07-17T14:29:42.494213Z",
     "iopub.status.idle": "2021-07-17T14:29:56.003057Z",
     "shell.execute_reply": "2021-07-17T14:29:56.001950Z",
     "shell.execute_reply.started": "2021-07-17T14:29:42.494549Z"
    }
   },
   "outputs": [],
   "source": [
    "train_features=[]\n",
    "train_labels = []\n",
    "for i in range(60000):\n",
    "    train_features.append(np.array(data_train.iloc[i][1:]).reshape(28,28))\n",
    "    train_labels.append(data_train.iloc[i][0])"
   ]
  },
  {
   "cell_type": "code",
   "execution_count": 4,
   "metadata": {
    "execution": {
     "iopub.execute_input": "2021-07-17T14:29:56.005378Z",
     "iopub.status.busy": "2021-07-17T14:29:56.004947Z",
     "iopub.status.idle": "2021-07-17T14:29:56.227262Z",
     "shell.execute_reply": "2021-07-17T14:29:56.226276Z",
     "shell.execute_reply.started": "2021-07-17T14:29:56.005327Z"
    }
   },
   "outputs": [
    {
     "name": "stdout",
     "output_type": "stream",
     "text": [
      "Train Features :  (60000, 28, 28)\n",
      "Train Labels :  (60000, 1)\n"
     ]
    }
   ],
   "source": [
    "train_features = np.array(train_features)\n",
    "train_labels = np.array(train_labels).reshape(-1,1)\n",
    "print(\"Train Features : \",train_features.shape)\n",
    "print(\"Train Labels : \",train_labels.shape)"
   ]
  },
  {
   "cell_type": "code",
   "execution_count": 5,
   "metadata": {
    "execution": {
     "iopub.execute_input": "2021-07-17T14:29:56.229484Z",
     "iopub.status.busy": "2021-07-17T14:29:56.229129Z",
     "iopub.status.idle": "2021-07-17T14:29:56.923240Z",
     "shell.execute_reply": "2021-07-17T14:29:56.922280Z",
     "shell.execute_reply.started": "2021-07-17T14:29:56.229448Z"
    }
   },
   "outputs": [],
   "source": [
    "data_test = pd.read_csv(\"/home/zaripovdm/Рабочий стол/archive/fashion-mnist_test.csv\")"
   ]
  },
  {
   "cell_type": "code",
   "execution_count": 6,
   "metadata": {
    "execution": {
     "iopub.execute_input": "2021-07-17T14:29:56.925017Z",
     "iopub.status.busy": "2021-07-17T14:29:56.924673Z",
     "iopub.status.idle": "2021-07-17T14:29:59.439202Z",
     "shell.execute_reply": "2021-07-17T14:29:59.438278Z",
     "shell.execute_reply.started": "2021-07-17T14:29:56.924979Z"
    }
   },
   "outputs": [],
   "source": [
    "test_features=[]\n",
    "test_labels = []\n",
    "for i in range(10000):\n",
    "    test_features.append(np.array(data_test.iloc[i][1:]).reshape(28,28,1))\n",
    "    test_labels.append(data_test.iloc[i][0])"
   ]
  },
  {
   "cell_type": "code",
   "execution_count": 7,
   "metadata": {
    "execution": {
     "iopub.execute_input": "2021-07-17T14:29:59.441096Z",
     "iopub.status.busy": "2021-07-17T14:29:59.440705Z",
     "iopub.status.idle": "2021-07-17T14:29:59.615972Z",
     "shell.execute_reply": "2021-07-17T14:29:59.614934Z",
     "shell.execute_reply.started": "2021-07-17T14:29:59.441054Z"
    }
   },
   "outputs": [
    {
     "name": "stdout",
     "output_type": "stream",
     "text": [
      "Test Features :  (10000, 28, 28, 1)\n",
      "Test Labels :  (10000, 1)\n"
     ]
    }
   ],
   "source": [
    "test_features = np.array(test_features).reshape(-1,28,28,1)\n",
    "train_features = np.array(train_features).reshape(-1,28,28,1)\n",
    "test_labels = np.array(test_labels).reshape(-1,1)\n",
    "print(\"Test Features : \",test_features.shape)\n",
    "print(\"Test Labels : \",test_labels.shape)"
   ]
  },
  {
   "cell_type": "code",
   "execution_count": 8,
   "metadata": {
    "execution": {
     "iopub.execute_input": "2021-07-17T14:30:00.600654Z",
     "iopub.status.busy": "2021-07-17T14:30:00.600319Z",
     "iopub.status.idle": "2021-07-17T14:30:00.763556Z",
     "shell.execute_reply": "2021-07-17T14:30:00.762680Z",
     "shell.execute_reply.started": "2021-07-17T14:30:00.600617Z"
    }
   },
   "outputs": [],
   "source": [
    "train_features = train_features / 255.0\n",
    "test_features = test_features / 255.0"
   ]
  },
  {
   "cell_type": "code",
   "execution_count": 9,
   "metadata": {},
   "outputs": [],
   "source": [
    "# импортируем нашу библиотеку\n",
    "import widelearning as wdl"
   ]
  },
  {
   "cell_type": "code",
   "execution_count": 10,
   "metadata": {},
   "outputs": [
    {
     "name": "stdout",
     "output_type": "stream",
     "text": [
      "-2,-1,0,1,2,\n",
      "-2,-1,0,1,2,\n",
      "-2,-1,0,1,2,\n",
      "-2,-1,0,1,2,\n",
      "-2,-1,0,1,2,\n"
     ]
    }
   ],
   "source": [
    "# сгенерируем ядро вертикального типа размерности 5*5\n",
    "k1 = wdl.vert([-2, -1, 0, 1, 2])"
   ]
  },
  {
   "cell_type": "code",
   "execution_count": 13,
   "metadata": {},
   "outputs": [],
   "source": [
    "# скопируем ядро в текстовый файл k1.txt и воспользовавшись функцией txt_kernel() подготовим его для установки\n",
    "# в структуру нейронной сети\n",
    "\n",
    "weights1 = wdl.txt_kernel('k1.txt')\n",
    "weights1 = np.array(weights1)"
   ]
  },
  {
   "cell_type": "code",
   "execution_count": 14,
   "metadata": {},
   "outputs": [
    {
     "name": "stderr",
     "output_type": "stream",
     "text": [
      "2022-08-23 16:21:09.761613: I tensorflow/compiler/mlir/mlir_graph_optimization_pass.cc:116] None of the MLIR optimization passes are enabled (registered 2)\n",
      "2022-08-23 16:21:09.780006: I tensorflow/core/platform/profile_utils/cpu_utils.cc:112] CPU Frequency: 2199995000 Hz\n"
     ]
    },
    {
     "name": "stdout",
     "output_type": "stream",
     "text": [
      "Epoch 1/7\n"
     ]
    },
    {
     "name": "stderr",
     "output_type": "stream",
     "text": [
      "2022-08-23 16:21:10.089986: I tensorflow/stream_executor/platform/default/dso_loader.cc:49] Successfully opened dynamic library libcublas.so.10\n",
      "2022-08-23 16:21:10.197031: I tensorflow/stream_executor/platform/default/dso_loader.cc:49] Successfully opened dynamic library libcudnn.so.7\n"
     ]
    },
    {
     "name": "stdout",
     "output_type": "stream",
     "text": [
      "938/938 [==============================] - 10s 10ms/step - loss: 0.7635 - accuracy: 0.7340 - val_loss: 0.3753 - val_accuracy: 0.8632\n",
      "Epoch 2/7\n",
      "938/938 [==============================] - 9s 10ms/step - loss: 0.4093 - accuracy: 0.8536 - val_loss: 0.3380 - val_accuracy: 0.8804\n",
      "Epoch 3/7\n",
      "938/938 [==============================] - 9s 10ms/step - loss: 0.3663 - accuracy: 0.8668 - val_loss: 0.3205 - val_accuracy: 0.8847\n",
      "Epoch 4/7\n",
      "938/938 [==============================] - 10s 11ms/step - loss: 0.3320 - accuracy: 0.8780 - val_loss: 0.3057 - val_accuracy: 0.8878\n",
      "Epoch 5/7\n",
      "938/938 [==============================] - 9s 10ms/step - loss: 0.3142 - accuracy: 0.8839 - val_loss: 0.3008 - val_accuracy: 0.8924\n",
      "Epoch 6/7\n",
      "938/938 [==============================] - 9s 10ms/step - loss: 0.2886 - accuracy: 0.8931 - val_loss: 0.3012 - val_accuracy: 0.8924\n",
      "Epoch 7/7\n",
      "938/938 [==============================] - 9s 10ms/step - loss: 0.2686 - accuracy: 0.8997 - val_loss: 0.2839 - val_accuracy: 0.8954\n"
     ]
    }
   ],
   "source": [
    "# урезанная структура\n",
    "# убрали обучение сверточного ядра первого слоя, установили собственное ядро, сгенерированное на предыдущем шаге\n",
    "model = keras.models.Sequential()\n",
    "model.add(keras.layers.Conv2D(1,(5,5),activation='relu',input_shape=(28,28,1), trainable=False, use_bias=False))\n",
    "model.add(keras.layers.Conv2D(32,(2,2),activation='relu'))\n",
    "model.add(keras.layers.MaxPool2D((2,2)))\n",
    "\n",
    "model.add(keras.layers.Flatten())\n",
    "\n",
    "model.add(keras.layers.Dense(512,activation='relu'))\n",
    "model.add(keras.layers.Dropout(0.5))\n",
    "model.add(keras.layers.Dense(128,activation='relu'))\n",
    "model.add(keras.layers.Dropout(0.3))\n",
    "model.add(keras.layers.Dense(10,activation='softmax'))\n",
    "\n",
    "model.compile(optimizer=keras.optimizers.Adam(0.001),loss='sparse_categorical_crossentropy',metrics=['accuracy'])\n",
    "\n",
    "model.layers[0].set_weights([weights1])\n",
    "\n",
    "ep = 7\n",
    "history = model.fit(train_features,\n",
    "                    train_labels,\n",
    "                    batch_size=64,\n",
    "                    validation_batch_size=1,\n",
    "                    validation_data = (test_features,test_labels),\n",
    "                    epochs = ep)"
   ]
  },
  {
   "cell_type": "code",
   "execution_count": 15,
   "metadata": {},
   "outputs": [
    {
     "name": "stdout",
     "output_type": "stream",
     "text": [
      "\n",
      "0,1,1,2,2,\n",
      "-1,0,1,1,2,\n",
      "-1,-1,0,1,1,\n",
      "-2,-1,-1,0,1,\n",
      "-2,-2,-1,-1,0,\n",
      "\n",
      "2,2,1,1,0,\n",
      "2,1,1,0,-1,\n",
      "1,1,0,-1,-1,\n",
      "1,0,-1,-1,-2,\n",
      "0,-1,-1,-2,-2,"
     ]
    }
   ],
   "source": [
    "# добавим к единственному ядру в первом сверточном слое ядро диагонального типа, сгенерировав его с\n",
    "# помощью функции diag() и сохранив в файл k2.txt\n",
    "\n",
    "k2 = wdl.diag(5)"
   ]
  },
  {
   "cell_type": "code",
   "execution_count": 16,
   "metadata": {},
   "outputs": [],
   "source": [
    "weights2 = wdl.txt_kernel('k2.txt')"
   ]
  },
  {
   "cell_type": "code",
   "execution_count": 17,
   "metadata": {},
   "outputs": [
    {
     "data": {
      "text/plain": [
       "[[[[0]], [[1]], [[1]], [[2]], [[2]]],\n",
       " [[[-1]], [[0]], [[1]], [[1]], [[2]]],\n",
       " [[[-1]], [[-1]], [[0]], [[1]], [[1]]],\n",
       " [[[-2]], [[-1]], [[-1]], [[0]], [[1]]],\n",
       " [[[-2]], [[-2]], [[-1]], [[-1]], [[0]]]]"
      ]
     },
     "execution_count": 17,
     "metadata": {},
     "output_type": "execute_result"
    }
   ],
   "source": [
    "weights2"
   ]
  },
  {
   "cell_type": "code",
   "execution_count": 18,
   "metadata": {},
   "outputs": [
    {
     "data": {
      "text/plain": [
       "[[[[0, 0]], [[1, 1]], [[1, 1]], [[2, 2]], [[2, 2]]],\n",
       " [[[-1, -1]], [[0, 0]], [[1, 1]], [[1, 1]], [[2, 2]]],\n",
       " [[[-1, -1]], [[-1, -1]], [[0, 0]], [[1, 1]], [[1, 1]]],\n",
       " [[[-2, -2]], [[-1, -1]], [[-1, -1]], [[0, 0]], [[1, 1]]],\n",
       " [[[-2, -2]], [[-2, -2]], [[-1, -1]], [[-1, -1]], [[0, 0]]]]"
      ]
     },
     "execution_count": 18,
     "metadata": {},
     "output_type": "execute_result"
    }
   ],
   "source": [
    "weights = wdl.add_kernel('k2.txt', [[[[0]], [[1]], [[1]], [[2]], [[2]]],\n",
    " [[[-1]], [[0]], [[1]], [[1]], [[2]]],\n",
    " [[[-1]], [[-1]], [[0]], [[1]], [[1]]],\n",
    " [[[-2]], [[-1]], [[-1]], [[0]], [[1]]],\n",
    " [[[-2]], [[-2]], [[-1]], [[-1]], [[0]]]])\n",
    "\n",
    "weights"
   ]
  },
  {
   "cell_type": "code",
   "execution_count": 19,
   "metadata": {},
   "outputs": [],
   "source": [
    "weights = np.array(weights)"
   ]
  },
  {
   "cell_type": "code",
   "execution_count": 20,
   "metadata": {},
   "outputs": [
    {
     "name": "stdout",
     "output_type": "stream",
     "text": [
      "Epoch 1/7\n",
      "938/938 [==============================] - 9s 9ms/step - loss: 0.7635 - accuracy: 0.7294 - val_loss: 0.3861 - val_accuracy: 0.8612\n",
      "Epoch 2/7\n",
      "938/938 [==============================] - 9s 9ms/step - loss: 0.4193 - accuracy: 0.8492 - val_loss: 0.3429 - val_accuracy: 0.8774\n",
      "Epoch 3/7\n",
      "938/938 [==============================] - 9s 9ms/step - loss: 0.3736 - accuracy: 0.8675 - val_loss: 0.3296 - val_accuracy: 0.8777\n",
      "Epoch 4/7\n",
      "938/938 [==============================] - 9s 9ms/step - loss: 0.3303 - accuracy: 0.8801 - val_loss: 0.3217 - val_accuracy: 0.8859\n",
      "Epoch 5/7\n",
      "938/938 [==============================] - 9s 9ms/step - loss: 0.3043 - accuracy: 0.8879 - val_loss: 0.3075 - val_accuracy: 0.8861\n",
      "Epoch 6/7\n",
      "938/938 [==============================] - 9s 9ms/step - loss: 0.2732 - accuracy: 0.9004 - val_loss: 0.2996 - val_accuracy: 0.8915\n",
      "Epoch 7/7\n",
      "938/938 [==============================] - 9s 9ms/step - loss: 0.2616 - accuracy: 0.9043 - val_loss: 0.3134 - val_accuracy: 0.8888\n"
     ]
    }
   ],
   "source": [
    "\n",
    "model = keras.models.Sequential()\n",
    "model.add(keras.layers.Conv2D(2,(5,5),activation='relu',input_shape=(28,28,1), trainable=False, use_bias=False))\n",
    "model.add(keras.layers.Conv2D(32,(2,2),activation='relu'))\n",
    "model.add(keras.layers.MaxPool2D((2,2)))\n",
    "\n",
    "model.add(keras.layers.Flatten())\n",
    "\n",
    "model.add(keras.layers.Dense(512,activation='relu'))\n",
    "model.add(keras.layers.Dropout(0.5))\n",
    "model.add(keras.layers.Dense(128,activation='relu'))\n",
    "model.add(keras.layers.Dropout(0.3))\n",
    "model.add(keras.layers.Dense(10,activation='softmax'))\n",
    "\n",
    "model.compile(optimizer=keras.optimizers.Adam(0.001),loss='sparse_categorical_crossentropy',metrics=['accuracy'])\n",
    "\n",
    "model.layers[0].set_weights([weights])\n",
    "\n",
    "ep = 7\n",
    "history = model.fit(train_features,\n",
    "                    train_labels,\n",
    "                    batch_size=64,\n",
    "                    validation_batch_size=1,\n",
    "                    validation_data = (test_features,test_labels),\n",
    "                    epochs = ep)"
   ]
  },
  {
   "cell_type": "code",
   "execution_count": null,
   "metadata": {},
   "outputs": [],
   "source": []
  },
  {
   "cell_type": "code",
   "execution_count": null,
   "metadata": {},
   "outputs": [],
   "source": []
  },
  {
   "cell_type": "code",
   "execution_count": null,
   "metadata": {},
   "outputs": [],
   "source": []
  },
  {
   "cell_type": "code",
   "execution_count": null,
   "metadata": {},
   "outputs": [],
   "source": []
  },
  {
   "cell_type": "code",
   "execution_count": null,
   "metadata": {},
   "outputs": [],
   "source": []
  },
  {
   "cell_type": "code",
   "execution_count": null,
   "metadata": {},
   "outputs": [],
   "source": []
  },
  {
   "cell_type": "code",
   "execution_count": null,
   "metadata": {},
   "outputs": [],
   "source": []
  },
  {
   "cell_type": "code",
   "execution_count": null,
   "metadata": {},
   "outputs": [],
   "source": []
  },
  {
   "cell_type": "code",
   "execution_count": null,
   "metadata": {},
   "outputs": [],
   "source": []
  },
  {
   "cell_type": "code",
   "execution_count": null,
   "metadata": {},
   "outputs": [],
   "source": []
  }
 ],
 "metadata": {
  "kernelspec": {
   "display_name": "Python 3 (ipykernel)",
   "language": "python",
   "name": "python3"
  },
  "language_info": {
   "codemirror_mode": {
    "name": "ipython",
    "version": 3
   },
   "file_extension": ".py",
   "mimetype": "text/x-python",
   "name": "python",
   "nbconvert_exporter": "python",
   "pygments_lexer": "ipython3",
   "version": "3.8.12"
  }
 },
 "nbformat": 4,
 "nbformat_minor": 4
}
