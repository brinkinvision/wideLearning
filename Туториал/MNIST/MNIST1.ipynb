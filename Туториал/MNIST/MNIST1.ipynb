{
 "cells": [
  {
   "cell_type": "code",
   "execution_count": 1,
   "metadata": {},
   "outputs": [],
   "source": [
    "import widelearning as wdl"
   ]
  },
  {
   "cell_type": "code",
   "execution_count": 3,
   "metadata": {},
   "outputs": [
    {
     "name": "stdout",
     "output_type": "stream",
     "text": [
      "\n",
      "Кол-во вычислительных операций =  14112\n",
      "Кол-во вычислительных операций (no_bias) =  13328\n",
      "\n"
     ]
    },
    {
     "data": {
      "text/plain": [
       "14112"
      ]
     },
     "execution_count": 3,
     "metadata": {},
     "output_type": "execute_result"
    }
   ],
   "source": [
    "wdl.count_conv_operations(28, 28, 1, 14, 7, 4)"
   ]
  },
  {
   "cell_type": "code",
   "execution_count": 4,
   "metadata": {
    "id": "TzwfEopouHlv"
   },
   "outputs": [],
   "source": [
    "import numpy as np\n",
    "import matplotlib.pyplot as plt\n",
    "import tensorflow.keras as keras\n",
    "(x_train, y_train), (x_test, y_test) = keras.datasets.mnist.load_data()"
   ]
  },
  {
   "cell_type": "code",
   "execution_count": 5,
   "metadata": {
    "id": "6Dlj7mpGuGXO"
   },
   "outputs": [],
   "source": [
    "x_train = x_train.reshape((60000, 28, 28, 1))\n",
    "x_train = x_train.astype('float32') / 255\n",
    "\n",
    "x_test = x_test.reshape((10000, 28, 28, 1))\n",
    "x_test = x_test.astype('float32') / 255\n",
    "\n",
    "from tensorflow.keras.utils import to_categorical\n",
    "y_train = to_categorical(y_train)\n",
    "y_test = to_categorical(y_test)"
   ]
  },
  {
   "cell_type": "code",
   "execution_count": 6,
   "metadata": {
    "id": "fUXq8O_QeeyA"
   },
   "outputs": [],
   "source": [
    "import tensorflow as tf\n",
    "tf.random.set_seed(2)"
   ]
  },
  {
   "cell_type": "code",
   "execution_count": 7,
   "metadata": {
    "id": "4NMl2RVqtqyS"
   },
   "outputs": [],
   "source": [
    "from keras import models\n",
    "from keras import layers\n",
    "\n",
    "model = models.Sequential([\n",
    "    layers.Conv2D(4, (14,14), activation='relu', strides=(7, 7), input_shape=(28,28,1), use_bias=False, trainable=False),\n",
    "    layers.Flatten(),\n",
    "    layers.Dense(10, 'softmax')\n",
    "])\n"
   ]
  },
  {
   "cell_type": "code",
   "execution_count": 8,
   "metadata": {},
   "outputs": [
    {
     "data": {
      "text/plain": [
       "[[-7, -7, -7, -7, -7, -7, -7, -7, -7, -7, -7, -7, -7, -7],\n",
       " [-5, -5, -5, -5, -5, -5, -5, -5, -5, -5, -5, -5, -5, -5],\n",
       " [-3, -3, -3, -3, -3, -3, -3, -3, -3, -3, -3, -3, -3, -3],\n",
       " [-1, -1, -1, -1, -1, -1, -1, -1, -1, -1, -1, -1, -1, -1],\n",
       " [1, 1, 1, 1, 1, 1, 1, 1, 1, 1, 1, 1, 1, 1],\n",
       " [3, 3, 3, 3, 3, 3, 3, 3, 3, 3, 3, 3, 3, 3],\n",
       " [5, 5, 5, 5, 5, 5, 5, 5, 5, 5, 5, 5, 5, 5],\n",
       " [7, 7, 7, 7, 7, 7, 7, 7, 7, 7, 7, 7, 7, 7],\n",
       " [-7, -7, -7, -7, -7, -7, -7, -7, -7, -7, -7, -7, -7, -7],\n",
       " [-5, -5, -5, -5, -5, -5, -5, -5, -5, -5, -5, -5, -5, -5],\n",
       " [-3, -3, -3, -3, -3, -3, -3, -3, -3, -3, -3, -3, -3, -3],\n",
       " [-1, -1, -1, -1, -1, -1, -1, -1, -1, -1, -1, -1, -1, -1],\n",
       " [1, 1, 1, 1, 1, 1, 1, 1, 1, 1, 1, 1, 1, 1],\n",
       " [3, 3, 3, 3, 3, 3, 3, 3, 3, 3, 3, 3, 3, 3]]"
      ]
     },
     "execution_count": 8,
     "metadata": {},
     "output_type": "execute_result"
    }
   ],
   "source": [
    "wdl.horizontal(14, [-7,-5,-3,-1,1,3,5,7])"
   ]
  },
  {
   "cell_type": "code",
   "execution_count": 9,
   "metadata": {},
   "outputs": [
    {
     "data": {
      "text/plain": [
       "[[-7, -5, -3, -1, 1, 3, 5, 7, -7, -5, -3, -1, 1, 3],\n",
       " [-7, -5, -3, -1, 1, 3, 5, 7, -7, -5, -3, -1, 1, 3],\n",
       " [-7, -5, -3, -1, 1, 3, 5, 7, -7, -5, -3, -1, 1, 3],\n",
       " [-7, -5, -3, -1, 1, 3, 5, 7, -7, -5, -3, -1, 1, 3],\n",
       " [-7, -5, -3, -1, 1, 3, 5, 7, -7, -5, -3, -1, 1, 3],\n",
       " [-7, -5, -3, -1, 1, 3, 5, 7, -7, -5, -3, -1, 1, 3],\n",
       " [-7, -5, -3, -1, 1, 3, 5, 7, -7, -5, -3, -1, 1, 3],\n",
       " [-7, -5, -3, -1, 1, 3, 5, 7, -7, -5, -3, -1, 1, 3],\n",
       " [-7, -5, -3, -1, 1, 3, 5, 7, -7, -5, -3, -1, 1, 3],\n",
       " [-7, -5, -3, -1, 1, 3, 5, 7, -7, -5, -3, -1, 1, 3],\n",
       " [-7, -5, -3, -1, 1, 3, 5, 7, -7, -5, -3, -1, 1, 3],\n",
       " [-7, -5, -3, -1, 1, 3, 5, 7, -7, -5, -3, -1, 1, 3],\n",
       " [-7, -5, -3, -1, 1, 3, 5, 7, -7, -5, -3, -1, 1, 3],\n",
       " [-7, -5, -3, -1, 1, 3, 5, 7, -7, -5, -3, -1, 1, 3]]"
      ]
     },
     "execution_count": 9,
     "metadata": {},
     "output_type": "execute_result"
    }
   ],
   "source": [
    "wdl.vertical(14, [-7,-5,-3,-1,1,3,5,7])"
   ]
  },
  {
   "cell_type": "code",
   "execution_count": 10,
   "metadata": {},
   "outputs": [
    {
     "data": {
      "text/plain": [
       "[[1, -7, -5, -3, -1, -7, -5, -3, -1, -7, -5, -3, -1, -7],\n",
       " [1, 1, -7, -5, -3, -1, -7, -5, -3, -1, -7, -5, -3, -1],\n",
       " [3, 1, 1, -7, -5, -3, -1, -7, -5, -3, -1, -7, -5, -3],\n",
       " [5, 3, 1, 1, -7, -5, -3, -1, -7, -5, -3, -1, -7, -5],\n",
       " [7, 5, 3, 1, 1, -7, -5, -3, -1, -7, -5, -3, -1, -7],\n",
       " [1, 7, 5, 3, 1, 1, -7, -5, -3, -1, -7, -5, -3, -1],\n",
       " [3, 1, 7, 5, 3, 1, 1, -7, -5, -3, -1, -7, -5, -3],\n",
       " [5, 3, 1, 7, 5, 3, 1, 1, -7, -5, -3, -1, -7, -5],\n",
       " [7, 5, 3, 1, 7, 5, 3, 1, 1, -7, -5, -3, -1, -7],\n",
       " [1, 7, 5, 3, 1, 7, 5, 3, 1, 1, -7, -5, -3, -1],\n",
       " [3, 1, 7, 5, 3, 1, 7, 5, 3, 1, 1, -7, -5, -3],\n",
       " [5, 3, 1, 7, 5, 3, 1, 7, 5, 3, 1, 1, -7, -5],\n",
       " [7, 5, 3, 1, 7, 5, 3, 1, 7, 5, 3, 1, 1, -7],\n",
       " [1, 7, 5, 3, 1, 7, 5, 3, 1, 7, 5, 3, 1, 1]]"
      ]
     },
     "execution_count": 10,
     "metadata": {},
     "output_type": "execute_result"
    }
   ],
   "source": [
    "wdl.diagonal([-7, -5, -3, -1], [1, 3, 5, 7], 1, 14)"
   ]
  },
  {
   "cell_type": "code",
   "execution_count": null,
   "metadata": {
    "id": "IhYql8oRqe3c"
   },
   "outputs": [],
   "source": [
    "model.layers[0].set_weights([weights])"
   ]
  },
  {
   "cell_type": "code",
   "execution_count": null,
   "metadata": {
    "id": "v5RSffOUZfoo"
   },
   "outputs": [],
   "source": [
    "model.compile(optimizer='adam',\n",
    "              loss='categorical_crossentropy',\n",
    "              metrics=['accuracy'])"
   ]
  },
  {
   "cell_type": "code",
   "execution_count": null,
   "metadata": {
    "colab": {
     "base_uri": "https://localhost:8080/"
    },
    "id": "idKlTSN1Zfyz",
    "outputId": "4cc742cc-4647-4243-86e5-2ed054e20288"
   },
   "outputs": [
    {
     "name": "stdout",
     "output_type": "stream",
     "text": [
      "Epoch 1/10\n",
      "1875/1875 [==============================] - 4s 2ms/step - loss: 0.2480 - accuracy: 0.9322\n",
      "Epoch 2/10\n",
      "1875/1875 [==============================] - 4s 2ms/step - loss: 0.1404 - accuracy: 0.9588\n",
      "Epoch 3/10\n",
      "1875/1875 [==============================] - 4s 2ms/step - loss: 0.1230 - accuracy: 0.9623\n",
      "Epoch 4/10\n",
      "1875/1875 [==============================] - 4s 2ms/step - loss: 0.1142 - accuracy: 0.9656\n",
      "Epoch 5/10\n",
      "1875/1875 [==============================] - 4s 2ms/step - loss: 0.1088 - accuracy: 0.9670\n",
      "Epoch 6/10\n",
      "1875/1875 [==============================] - 4s 2ms/step - loss: 0.1052 - accuracy: 0.9673\n",
      "Epoch 7/10\n",
      "1875/1875 [==============================] - 4s 2ms/step - loss: 0.1029 - accuracy: 0.9685\n",
      "Epoch 8/10\n",
      "1875/1875 [==============================] - 4s 2ms/step - loss: 0.1005 - accuracy: 0.9695\n",
      "Epoch 9/10\n",
      "1875/1875 [==============================] - 4s 2ms/step - loss: 0.0988 - accuracy: 0.9695\n",
      "Epoch 10/10\n",
      "1875/1875 [==============================] - 4s 2ms/step - loss: 0.0977 - accuracy: 0.9694\n"
     ]
    },
    {
     "data": {
      "text/plain": [
       "<keras.callbacks.History at 0x7fca859dd990>"
      ]
     },
     "execution_count": 15,
     "metadata": {},
     "output_type": "execute_result"
    }
   ],
   "source": [
    "model.fit(x_train, y_train, epochs=10)"
   ]
  },
  {
   "cell_type": "code",
   "execution_count": null,
   "metadata": {
    "colab": {
     "base_uri": "https://localhost:8080/"
    },
    "id": "1cMK3pCNiWHl",
    "outputId": "ae510221-55c4-41ab-fca0-330fd6a41e6d"
   },
   "outputs": [
    {
     "name": "stdout",
     "output_type": "stream",
     "text": [
      "1875/1875 [==============================] - 4s 2ms/step - loss: 0.0891 - accuracy: 0.9734\n",
      "313/313 [==============================] - 1s 3ms/step - loss: 0.0961 - accuracy: 0.9739\n"
     ]
    }
   ],
   "source": [
    "train_loss, train_acc = model.evaluate(x_train, y_train)\n",
    "test_loss, test_acc = model.evaluate(x_test, y_test)"
   ]
  },
  {
   "cell_type": "code",
   "execution_count": null,
   "metadata": {
    "id": "dGXpXseKgQZR"
   },
   "outputs": [],
   "source": []
  },
  {
   "cell_type": "code",
   "execution_count": null,
   "metadata": {
    "id": "_JXITteCqe3w"
   },
   "outputs": [],
   "source": []
  },
  {
   "cell_type": "code",
   "execution_count": null,
   "metadata": {
    "id": "WI49lA69qe3w"
   },
   "outputs": [],
   "source": []
  },
  {
   "cell_type": "code",
   "execution_count": null,
   "metadata": {
    "id": "WjJO192oqe3x"
   },
   "outputs": [],
   "source": []
  },
  {
   "cell_type": "code",
   "execution_count": null,
   "metadata": {
    "id": "M-kOophBqe3x"
   },
   "outputs": [],
   "source": []
  },
  {
   "cell_type": "code",
   "execution_count": null,
   "metadata": {
    "id": "tYetUC_9qe3y"
   },
   "outputs": [],
   "source": []
  }
 ],
 "metadata": {
  "accelerator": "GPU",
  "colab": {
   "provenance": []
  },
  "kernelspec": {
   "display_name": "Python 3 (ipykernel)",
   "language": "python",
   "name": "python3"
  },
  "language_info": {
   "codemirror_mode": {
    "name": "ipython",
    "version": 3
   },
   "file_extension": ".py",
   "mimetype": "text/x-python",
   "name": "python",
   "nbconvert_exporter": "python",
   "pygments_lexer": "ipython3",
   "version": "3.9.7"
  }
 },
 "nbformat": 4,
 "nbformat_minor": 1
}
